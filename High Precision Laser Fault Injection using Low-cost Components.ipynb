{
 "cells": [
  {
   "cell_type": "markdown",
   "id": "2c638cb8",
   "metadata": {},
   "source": [
    "High Precision Laser Fault Injection using Low-cost Components.\n",
    "Martin S. Kelly\n",
    "Information Security Group\n",
    "Smart Card Centre\n",
    "Royal Holloway, University of London\n",
    "Egham, TW20 0EX\n",
    "United Kingdom.\n",
    "Email: Martin.Kelly.2014@live.rhul.ac.uk\n",
    "Keith Mayes\n",
    "Information Security Group\n",
    "Smart Card Centre\n",
    "Royal Holloway, University of London\n",
    "Egham, TW20 0EX\n",
    "United Kingdom.\n",
    "Email: Keith.Mayes@rhul.ac.uk\n",
    "https://pure.royalholloway.ac.uk/ws/files/38226452/00_AfforableLaserAttacks.pdf"
   ]
  },
  {
   "cell_type": "markdown",
   "id": "3ef84461",
   "metadata": {},
   "source": [
    "Unprotected"
   ]
  },
  {
   "cell_type": "code",
   "execution_count": null,
   "id": "46c4bcfb",
   "metadata": {},
   "outputs": [],
   "source": [
    "// Unprotected\n",
    "var Flag = FALSE\n",
    "func test()\n",
    "...\n",
    "if (Flag == TRUE)\n",
    "return SecretOp()\n",
    "else\n",
    "return EXPECTED\n",
    "end\n",
    "func SecretOp()\n",
    "...\n",
    "return SECRET\n",
    "end"
   ]
  },
  {
   "cell_type": "markdown",
   "id": "abea621b",
   "metadata": {},
   "source": [
    "Double Test"
   ]
  },
  {
   "cell_type": "code",
   "execution_count": null,
   "id": "5120438e",
   "metadata": {},
   "outputs": [],
   "source": [
    "// Double Test\n",
    "...\n",
    "if (Flag == TRUE)\n",
    "if (Flag == TRUE)\n",
    "return SecretOp()\n",
    "else\n",
    "TRAPPED\n",
    "else\n",
    "return EXPECTED"
   ]
  },
  {
   "cell_type": "markdown",
   "id": "32102e55",
   "metadata": {},
   "source": [
    "Retest in Target"
   ]
  },
  {
   "cell_type": "code",
   "execution_count": null,
   "id": "32af8140",
   "metadata": {},
   "outputs": [],
   "source": [
    "// Retest in Target\n",
    "func SecretOp()\n",
    "if (Flag == TRUE)\n",
    "...\n",
    "return SECRET\n",
    "else\n",
    "TRAPPED\n",
    "end"
   ]
  },
  {
   "cell_type": "markdown",
   "id": "43d00dfa",
   "metadata": {},
   "source": [
    "Inverse Test"
   ]
  },
  {
   "cell_type": "code",
   "execution_count": null,
   "id": "d196ab92",
   "metadata": {},
   "outputs": [],
   "source": [
    "// Inverse Test\n",
    "...\n",
    "if (Flag == TRUE)\n",
    "if (Flag != TRUE)\n",
    "TRAPPED\n",
    "else\n",
    "return SecretOp()\n",
    "else\n",
    "return EXPECTED"
   ]
  },
  {
   "cell_type": "markdown",
   "id": "a980b20f",
   "metadata": {},
   "source": [
    "Double Data"
   ]
  },
  {
   "cell_type": "code",
   "execution_count": null,
   "id": "b0c9a511",
   "metadata": {},
   "outputs": [],
   "source": [
    "// Double Data\n",
    "...\n",
    "if ((FlagA == FALSE) &&\n",
    "(FlagB == FALSE))\n",
    "return EXPECTED\n",
    "elseif ((FlagA == TRUE) &&\n",
    "(FlagB == TRUE))\n",
    "return SecretOp()\n",
    "else\n",
    "TRAPPED"
   ]
  },
  {
   "cell_type": "markdown",
   "id": "fb800184",
   "metadata": {},
   "source": [
    "Data Inverse"
   ]
  },
  {
   "cell_type": "code",
   "execution_count": null,
   "id": "627b3343",
   "metadata": {},
   "outputs": [],
   "source": [
    "// Inverse data\n",
    "...\n",
    "if (Flag != ~InvFlag)\n",
    "TRAPPED\n",
    "elseif (Flag == TRUE)\n",
    "return SecretOp()\n",
    "elseif (Flag == FALSE)\n",
    "return EXPECTED\n",
    "else\n",
    "TRAPPED"
   ]
  },
  {
   "cell_type": "markdown",
   "id": "aa792e56",
   "metadata": {},
   "source": [
    "Checksum Data"
   ]
  },
  {
   "cell_type": "code",
   "execution_count": null,
   "id": "101168f4",
   "metadata": {},
   "outputs": [],
   "source": [
    "// Checksum over data\n",
    "...\n",
    "CrcVerify_TrapOnError()\n",
    "...\n",
    "if (Flag == TRUE)\n",
    "return SecretOp()\n",
    "else\n",
    "return EXPECTED"
   ]
  },
  {
   "cell_type": "markdown",
   "id": "f9068dfe",
   "metadata": {},
   "source": [
    "Redundant Representation"
   ]
  },
  {
   "cell_type": "code",
   "execution_count": null,
   "id": "30db56bb",
   "metadata": {},
   "outputs": [],
   "source": [
    "// Redundant Representation\n",
    "const STRUE = 0xA5\n",
    "const SFALSE = 0xA7\n",
    "...\n",
    "if (Flag == STRUE)\n",
    "return SecretOp()\n",
    "elseif (Flag == SFALSE)\n",
    "return EXPECTED\n",
    "else\n",
    "TRAPPED"
   ]
  },
  {
   "cell_type": "markdown",
   "id": "38bb7491",
   "metadata": {},
   "source": [
    "Repeat Calculation"
   ]
  },
  {
   "cell_type": "code",
   "execution_count": null,
   "id": "aa5342b5",
   "metadata": {},
   "outputs": [],
   "source": [
    "// Repeated Calculation\n",
    "...\n",
    "u16 nTmp1 = SecretOp()\n",
    "u16 nTmp2 = SecretOp()\n",
    "if (nTmp1 != nTmp2)\n",
    "TRAPPED\n",
    "else\n",
    "return nTmp2;"
   ]
  },
  {
   "cell_type": "markdown",
   "id": "72dbb16c",
   "metadata": {},
   "source": [
    "Modified Compensated"
   ]
  },
  {
   "cell_type": "code",
   "execution_count": null,
   "id": "b3ed146b",
   "metadata": {},
   "outputs": [],
   "source": [
    "// Modified & Compensated\n",
    "...\n",
    "Tmp1 = Calculation(Rnd1)\n",
    "Tmp2 = Calculation(Rnd2)\n",
    "Tmp3 = Clear(Tmp1, Rnd1)\n",
    "Tmp4 = Clear(Tmp2, Rnd2)\n",
    "if (Tmp3 != Tmp4)\n",
    "TRAPPED\n",
    "else\n",
    "return Tmp3"
   ]
  },
  {
   "cell_type": "markdown",
   "id": "3f221c59",
   "metadata": {},
   "source": [
    " Alternative Algorithm"
   ]
  },
  {
   "cell_type": "code",
   "execution_count": null,
   "id": "b2d95828",
   "metadata": {},
   "outputs": [],
   "source": [
    "// Alternative Algorithm\n",
    "...\n",
    "Tmp1 = Method1()\n",
    "Tmp2 = Method2()\n",
    "if (Tmp1 != Tmp)\n",
    "TRAPPED\n",
    "else\n",
    "return Tmp2"
   ]
  },
  {
   "cell_type": "markdown",
   "id": "aeacc193",
   "metadata": {},
   "source": [
    "Inverse Calculation"
   ]
  },
  {
   "cell_type": "code",
   "execution_count": null,
   "id": "4f0b76aa",
   "metadata": {},
   "outputs": [],
   "source": [
    "// Inverse Calculation\n",
    "...\n",
    "Tmp1 = Method(Input)\n",
    "Tmp2 = InvMethod(Tmp1)\n",
    "if (Input != Tmp2)\n",
    "TRAPPED\n",
    "else\n",
    "return Tmp1"
   ]
  },
  {
   "cell_type": "markdown",
   "id": "5383ff61",
   "metadata": {},
   "source": [
    "Jump Id"
   ]
  },
  {
   "cell_type": "code",
   "execution_count": null,
   "id": "66c79030",
   "metadata": {},
   "outputs": [],
   "source": [
    "// Jump ID\n",
    "func ProtectedFn()\n",
    "if (!IdVerify(CALL_F))\n",
    "TRAPPED\n",
    "else\n",
    "...\n",
    "IdSet(RET_F)\n",
    "return Result\n",
    "end\n",
    "...\n",
    "IdSet(CALL_F)\n",
    "Val = ProtectedFn()\n",
    "if (IdVerify(RET_F))\n",
    "TRAPPED\n",
    "else\n",
    "return Val"
   ]
  },
  {
   "cell_type": "markdown",
   "id": "0402a14c",
   "metadata": {},
   "source": [
    "Waymark Late Test"
   ]
  },
  {
   "cell_type": "code",
   "execution_count": null,
   "id": "e9a648fd",
   "metadata": {},
   "outputs": [],
   "source": [
    "// Waymark - Late Test\n",
    "WM = IV\n",
    "...\n",
    "WM += M1\n",
    "...\n",
    "WM += Mx\n",
    "...\n",
    "if (WM != IV+M1+...Mx)\n",
    "TRAPPED\n",
    "else\n",
    "return nRetVal"
   ]
  },
  {
   "cell_type": "markdown",
   "id": "dac2eca9",
   "metadata": {},
   "source": [
    "Waymark on the fly"
   ]
  },
  {
   "cell_type": "code",
   "execution_count": null,
   "id": "fbb6a3f2",
   "metadata": {},
   "outputs": [],
   "source": [
    "// Waymark - On the fly\n",
    "func Waymark(n)\n",
    "if (n != nNextWM)\n",
    "TRAPPED\n",
    "else\n",
    "nNextWM++\n",
    "end\n",
    "...\n",
    "Waymark(10)\n",
    "...\n",
    "Waymark(11)\n",
    "...\n",
    "Waymark(12)\n",
    "return Result"
   ]
  },
  {
   "cell_type": "markdown",
   "id": "3f818e07",
   "metadata": {},
   "source": [
    "Hybrid Defense"
   ]
  },
  {
   "cell_type": "code",
   "execution_count": null,
   "id": "58f844be",
   "metadata": {},
   "outputs": [],
   "source": [
    "// Hybrid Defense\n",
    "func Calculation(WP)\n",
    "Waymark(WP)\n",
    "...\n",
    "Waymark(WP+1)\n",
    "return EXPECTED\n",
    "func TestEQ(WP, V1, V2)\n",
    "Waymark(WP)\n",
    "return (V1 == V2)\n",
    "...\n",
    "A = Calculation(1)\n",
    "B = Calculation(3)\n",
    "if (TestEQ(5, A, B))\n",
    "if (TestEQ(6, B, A))\n",
    "Waymark(7)\n",
    "return A\n",
    "TRAPPED"
   ]
  }
 ],
 "metadata": {
  "language_info": {
   "name": "python"
  }
 },
 "nbformat": 4,
 "nbformat_minor": 5
}
